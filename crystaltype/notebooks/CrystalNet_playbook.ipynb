{
 "cells": [
  {
   "cell_type": "markdown",
   "metadata": {},
   "source": [
    "### 0. Import libraries"
   ]
  },
  {
   "cell_type": "code",
   "execution_count": 1,
   "metadata": {},
   "outputs": [],
   "source": [
    "import torch\n",
    "import time, random\n",
    "import numpy as np\n",
    "import matplotlib.pyplot as plt\n",
    "\n",
    "from torch import nn, optim\n",
    "from PIL import Image\n",
    "Image.MAX_IMAGE_PIXELS = None # Now we can open large tiff images"
   ]
  },
  {
   "cell_type": "code",
   "execution_count": 2,
   "metadata": {},
   "outputs": [
    {
     "name": "stdout",
     "output_type": "stream",
     "text": [
      "PyTorch Version: 1.7.1\n",
      "Cuda Version: 10.2\n",
      "Is there a cuda-device(GPU)? True\n"
     ]
    }
   ],
   "source": [
    "print(\"PyTorch Version:\",torch.__version__)\n",
    "print(\"Cuda Version:\", torch.version.cuda)\n",
    "print(\"Is there a cuda-device(GPU)?\",torch.cuda.is_available())"
   ]
  },
  {
   "cell_type": "markdown",
   "metadata": {},
   "source": [
    "### 1. Basic model Class and Functions"
   ]
  },
  {
   "cell_type": "code",
   "execution_count": 3,
   "metadata": {},
   "outputs": [],
   "source": [
    "class CrystalNet(nn.Module): \n",
    "    def __init__(self, droprate=0.4, classnum=3):\n",
    "        super(CrystalNet, self).__init__()\n",
    "        self.conv = nn.Sequential(\n",
    "            # 3D Conv layer #1, Kernel (6,8,8), Stride 2, Neuron Number 32\n",
    "            # Input Shape [batch_size,1,31,31,31]\n",
    "            # Output Shape [batch_size,32,13,12,12] \n",
    "            nn.Conv3d(1,32,(6,8,8),stride=2),\n",
    "            # A Relu Activation\n",
    "            nn.ReLU(),\n",
    "            \n",
    "            # Pooling Layer #1, Kernel (3,2,2), Stride 2\n",
    "            # Input Shape [batch_size,32,13,13,12]\n",
    "            # Output Shape [batch_size,32,6,6,6] \n",
    "            nn.MaxPool3d((3,2,2),stride=2),\n",
    "            \n",
    "            # 3D Conv layer #2, Kernel (3,3,3), Stride 1, Neuron Number 64\n",
    "            # Input Shape [batch_size,32,6,6,6]\n",
    "            # Output Shape [batch_size,64,6,6,6]\n",
    "            nn.Conv3d(32,64,(3,3,3),stride=1,padding=1),\n",
    "            # A Relu Activation\n",
    "            nn.ReLU(),\n",
    "            \n",
    "            # Pooling Layer #2, Kernel (2,2,2), Stride 2\n",
    "            # Input Shape [batch_size,64,6,6,6]\n",
    "            # Output Shape [batch_size,64,3,3,3] \n",
    "            nn.MaxPool3d((2,2,2),stride=2),\n",
    "        )\n",
    "        \n",
    "        self.dense = nn.Sequential(\n",
    "            # Densely connected layer #1 with 256 neurons\n",
    "            # Input Tensor Shape: [batch_size, 3 * 3 * 3 * 64]\n",
    "            # Output Tensor Shape: [batch_size, 256]\n",
    "            nn.Linear(64*3*3*3,256),\n",
    "            # A Relu Activation\n",
    "            nn.ReLU(),\n",
    "            \n",
    "            # Dropout Layer for a better training results\n",
    "            nn.Dropout(p=droprate),\n",
    "            \n",
    "            # Densely connected layer #2 as logits layer\n",
    "            # Input Tensor Shape: [batch_size, 256]\n",
    "            # Output Tensor Shape: [batch_size, classnum]\n",
    "            nn.Linear(256,classnum),\n",
    "        )\n",
    "    \n",
    "    def forward(self,inputs):\n",
    "        '''\n",
    "        inputs Shape [batch_size,1,31,31,31]\n",
    "        feature Shape [batch_size,64,3,3,3]\n",
    "        output Shape [batch_size,classnum]\n",
    "        '''\n",
    "        feature = self.conv(inputs)\n",
    "        output = self.dense(feature.view(inputs.shape[0], -1))\n",
    "        return output\n",
    "    \n",
    "    def predict(self,inputs):\n",
    "        '''\n",
    "        Return the type predicted by the CrystalNet Model\n",
    "        Shape: [batch_size]\n",
    "        '''\n",
    "        output = self.forward(inputs)\n",
    "        return output.argmax(dim=1)"
   ]
  },
  {
   "cell_type": "code",
   "execution_count": 4,
   "metadata": {},
   "outputs": [],
   "source": [
    "def data_iter(batch_size, features, labels):\n",
    "    '''\n",
    "    To make life easier, create a generator to load batched data\n",
    "    '''\n",
    "    num_examples = len(features)\n",
    "    indices = list(range(num_examples))\n",
    "    random.shuffle(indices)  \n",
    "    for i in range(0, num_examples, batch_size):\n",
    "        j = torch.LongTensor(indices[i: min(i + batch_size, num_examples)]) # last batch might not be full\n",
    "        yield features.index_select(0, j), labels.index_select(0, j)"
   ]
  },
  {
   "cell_type": "code",
   "execution_count": 5,
   "metadata": {},
   "outputs": [],
   "source": [
    "def train(net, train_iter, test_iter, batch_size, optimizer, device, num_epochs):\n",
    "    net = net.to(device)\n",
    "    print(\"training on \", device)\n",
    "    loss = nn.CrossEntropyLoss() # Use CrossEntroyLoss for this multi-class classification task\n",
    "    for epoch in range(num_epochs):\n",
    "        train_l_sum, train_acc_sum, n, batch_count, start = 0.0, 0.0, 0, 0, time.time()\n",
    "        for X, y in train_iter():\n",
    "            X = X.to(device)\n",
    "            y = y.to(device)\n",
    "            y_hat = net.forward(X)\n",
    "            l = loss(y_hat, y)\n",
    "            optimizer.zero_grad()\n",
    "            l.backward()\n",
    "            optimizer.step()\n",
    "            train_l_sum += l.cpu().item()\n",
    "            train_acc_sum += (y_hat.argmax(dim=1) == y).sum().cpu().item()\n",
    "            n += y.shape[0]\n",
    "            batch_count += 1\n",
    "        test_acc = evaluate_accuracy(test_iter, net)\n",
    "        print('epoch %d, loss %.4f, train acc %.3f, test acc %.3f, time %.1f sec'\n",
    "              % (epoch + 1, train_l_sum / batch_count, train_acc_sum / n, test_acc, time.time() - start))"
   ]
  },
  {
   "cell_type": "code",
   "execution_count": 6,
   "metadata": {},
   "outputs": [],
   "source": [
    "def evaluate_accuracy(data_iter, net, device=None):\n",
    "    if device is None and isinstance(net, torch.nn.Module):\n",
    "        device = list(net.parameters())[0].device\n",
    "    acc_sum, n = 0.0, 0\n",
    "    with torch.no_grad():\n",
    "        for X, y in data_iter():\n",
    "            assert isinstance(net, torch.nn.Module)\n",
    "            net.eval() # evaluation mode, turn off dropout\n",
    "            acc_sum += (net.predict(X.to(device)) == y.to(device)).float().sum().cpu().item()\n",
    "            net.train() # change back to training mode\n",
    "            n += y.shape[0]\n",
    "    return acc_sum / n"
   ]
  },
  {
   "cell_type": "markdown",
   "metadata": {},
   "source": [
    "### 2. Train the Model"
   ]
  },
  {
   "cell_type": "code",
   "execution_count": 7,
   "metadata": {},
   "outputs": [],
   "source": [
    "# Read in training dataset and test dataset\n",
    "train_data = torch.from_numpy(np.asarray(plt.imread(r'../data/crystaltypelocal_train.tiff'), dtype=np.float32))\n",
    "train_labels = torch.from_numpy(np.loadtxt(r'../data/crystaltype_label.txt')).type(torch.LongTensor)\n",
    "test_data = torch.from_numpy(np.asarray(plt.imread(r'../data/crystaltypelocal_eval.tiff'), dtype=np.float32))\n",
    "test_labels = torch.from_numpy(np.loadtxt(r'../data/crystaltype_evallabel.txt')).type(torch.LongTensor)"
   ]
  },
  {
   "cell_type": "code",
   "execution_count": 15,
   "metadata": {},
   "outputs": [],
   "source": [
    "# Define the dataset generator\n",
    "def train_iter():\n",
    "    return data_iter(batchsize, train_data.view(train_data.shape[0],1,31,31,31), train_labels)\n",
    "def test_iter():\n",
    "    return data_iter(batchsize, test_data.view(test_data.shape[0],1,31,31,31), test_labels)"
   ]
  },
  {
   "cell_type": "code",
   "execution_count": 8,
   "metadata": {},
   "outputs": [],
   "source": [
    "# Use GPU if have one\n",
    "device = torch.device('cuda' if torch.cuda.is_available() else 'cpu')"
   ]
  },
  {
   "cell_type": "code",
   "execution_count": 13,
   "metadata": {},
   "outputs": [],
   "source": [
    "# Define some constants\n",
    "classnum = 3 # bcc, hcp, fcc, intotal 3 types\n",
    "batchsize = 128\n",
    "droprate = 0.4\n",
    "lr = 0.001\n",
    "num_epochs = 50"
   ]
  },
  {
   "cell_type": "code",
   "execution_count": 14,
   "metadata": {},
   "outputs": [],
   "source": [
    "# Initialize a CrystalNet Model\n",
    "crystalnet_model = CrystalNet(droprate=droprate,classnum=classnum)\n",
    "# Use Adam as the optimizer\n",
    "optimizer = torch.optim.Adam(crystalnet_model.parameters(),lr=lr)"
   ]
  },
  {
   "cell_type": "code",
   "execution_count": 16,
   "metadata": {},
   "outputs": [
    {
     "name": "stdout",
     "output_type": "stream",
     "text": [
      "training on  cuda\n",
      "epoch 1, loss 2.3356, train acc 0.364, test acc 0.406, time 0.9 sec\n",
      "epoch 2, loss 1.0703, train acc 0.413, test acc 0.426, time 0.8 sec\n",
      "epoch 3, loss 1.0513, train acc 0.434, test acc 0.455, time 0.8 sec\n",
      "epoch 4, loss 1.0012, train acc 0.489, test acc 0.529, time 0.8 sec\n",
      "epoch 5, loss 0.9537, train acc 0.527, test acc 0.544, time 0.8 sec\n",
      "epoch 6, loss 0.9211, train acc 0.550, test acc 0.565, time 0.8 sec\n",
      "epoch 7, loss 0.8972, train acc 0.572, test acc 0.569, time 0.8 sec\n",
      "epoch 8, loss 0.8863, train acc 0.583, test acc 0.573, time 0.8 sec\n",
      "epoch 9, loss 0.8697, train acc 0.592, test acc 0.564, time 0.8 sec\n",
      "epoch 10, loss 0.8516, train acc 0.591, test acc 0.587, time 0.8 sec\n",
      "epoch 11, loss 0.8348, train acc 0.612, test acc 0.572, time 0.8 sec\n",
      "epoch 12, loss 0.8201, train acc 0.615, test acc 0.586, time 0.8 sec\n",
      "epoch 13, loss 0.8067, train acc 0.627, test acc 0.583, time 0.8 sec\n",
      "epoch 14, loss 0.7848, train acc 0.635, test acc 0.593, time 0.8 sec\n",
      "epoch 15, loss 0.7737, train acc 0.645, test acc 0.589, time 0.8 sec\n",
      "epoch 16, loss 0.7506, train acc 0.658, test acc 0.593, time 0.8 sec\n",
      "epoch 17, loss 0.7309, train acc 0.669, test acc 0.587, time 0.8 sec\n",
      "epoch 18, loss 0.7189, train acc 0.673, test acc 0.586, time 0.8 sec\n",
      "epoch 19, loss 0.7104, train acc 0.675, test acc 0.602, time 0.8 sec\n",
      "epoch 20, loss 0.6866, train acc 0.695, test acc 0.587, time 0.8 sec\n",
      "epoch 21, loss 0.6819, train acc 0.701, test acc 0.598, time 0.8 sec\n",
      "epoch 22, loss 0.6434, train acc 0.716, test acc 0.606, time 0.8 sec\n",
      "epoch 23, loss 0.6107, train acc 0.732, test acc 0.597, time 0.8 sec\n",
      "epoch 24, loss 0.5941, train acc 0.741, test acc 0.622, time 0.8 sec\n",
      "epoch 25, loss 0.5751, train acc 0.751, test acc 0.611, time 0.8 sec\n",
      "epoch 26, loss 0.5583, train acc 0.755, test acc 0.613, time 0.8 sec\n",
      "epoch 27, loss 0.5236, train acc 0.776, test acc 0.601, time 0.8 sec\n",
      "epoch 28, loss 0.5168, train acc 0.784, test acc 0.612, time 0.8 sec\n",
      "epoch 29, loss 0.4758, train acc 0.794, test acc 0.612, time 0.8 sec\n",
      "epoch 30, loss 0.4596, train acc 0.805, test acc 0.622, time 0.8 sec\n",
      "epoch 31, loss 0.4319, train acc 0.818, test acc 0.629, time 0.8 sec\n",
      "epoch 32, loss 0.4167, train acc 0.825, test acc 0.634, time 0.8 sec\n",
      "epoch 33, loss 0.3936, train acc 0.841, test acc 0.625, time 0.8 sec\n",
      "epoch 34, loss 0.3560, train acc 0.854, test acc 0.628, time 0.8 sec\n",
      "epoch 35, loss 0.3585, train acc 0.851, test acc 0.645, time 0.8 sec\n",
      "epoch 36, loss 0.3463, train acc 0.858, test acc 0.625, time 0.8 sec\n",
      "epoch 37, loss 0.3439, train acc 0.859, test acc 0.626, time 0.7 sec\n",
      "epoch 38, loss 0.3243, train acc 0.864, test acc 0.634, time 0.8 sec\n",
      "epoch 39, loss 0.2965, train acc 0.882, test acc 0.637, time 0.8 sec\n",
      "epoch 40, loss 0.3010, train acc 0.880, test acc 0.636, time 0.8 sec\n",
      "epoch 41, loss 0.2950, train acc 0.882, test acc 0.631, time 0.8 sec\n",
      "epoch 42, loss 0.2670, train acc 0.895, test acc 0.629, time 0.8 sec\n",
      "epoch 43, loss 0.2672, train acc 0.895, test acc 0.636, time 0.8 sec\n",
      "epoch 44, loss 0.2407, train acc 0.906, test acc 0.640, time 0.8 sec\n",
      "epoch 45, loss 0.2393, train acc 0.907, test acc 0.629, time 0.8 sec\n",
      "epoch 46, loss 0.2154, train acc 0.915, test acc 0.643, time 0.8 sec\n",
      "epoch 47, loss 0.2605, train acc 0.904, test acc 0.651, time 0.8 sec\n",
      "epoch 48, loss 0.2443, train acc 0.906, test acc 0.628, time 0.8 sec\n",
      "epoch 49, loss 0.2382, train acc 0.907, test acc 0.649, time 0.8 sec\n",
      "epoch 50, loss 0.2026, train acc 0.922, test acc 0.651, time 0.8 sec\n"
     ]
    }
   ],
   "source": [
    "train(crystalnet_model, train_iter, test_iter, batchsize, optimizer, device, num_epochs)"
   ]
  },
  {
   "cell_type": "markdown",
   "metadata": {},
   "source": [
    "### 3. Save and Reload the Model"
   ]
  },
  {
   "cell_type": "code",
   "execution_count": 17,
   "metadata": {},
   "outputs": [],
   "source": [
    "# Save the state_dict of the model\n",
    "torch.save(crystalnet_model.state_dict(), '../model/crystalmodel.pt')"
   ]
  },
  {
   "cell_type": "code",
   "execution_count": null,
   "metadata": {},
   "outputs": [],
   "source": [
    "# Reload the model for future use\n",
    "# Reinitialize a model cass instance, and then load the dict saved above\n",
    "crystalnet_model_reload = CrystalNet()\n",
    "crystalnet_model_reload.load_state_dict(torch.load(r'../model/crystalmodel.pt'))"
   ]
  }
 ],
 "metadata": {
  "kernelspec": {
   "display_name": "classification",
   "language": "python",
   "name": "classification"
  },
  "language_info": {
   "codemirror_mode": {
    "name": "ipython",
    "version": 3
   },
   "file_extension": ".py",
   "mimetype": "text/x-python",
   "name": "python",
   "nbconvert_exporter": "python",
   "pygments_lexer": "ipython3",
   "version": "3.8.8"
  }
 },
 "nbformat": 4,
 "nbformat_minor": 2
}
